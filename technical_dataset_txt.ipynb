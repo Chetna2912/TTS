{
  "cells": [
    {
      "cell_type": "markdown",
      "metadata": {
        "id": "view-in-github",
        "colab_type": "text"
      },
      "source": [
        "<a href=\"https://colab.research.google.com/github/Chetna2912/TTS-/blob/main/technical_dataset_txt.ipynb\" target=\"_parent\"><img src=\"https://colab.research.google.com/assets/colab-badge.svg\" alt=\"Open In Colab\"/></a>"
      ]
    },
    {
      "cell_type": "code",
      "execution_count": null,
      "metadata": {
        "colab": {
          "background_save": true
        },
        "id": "rYLLBDKeeNIO"
      },
      "outputs": [],
      "source": [
        "dataset_content = \"\"\"\n",
        "API stands for Application Programming Interface.\n",
        "CUDA is a parallel computing platform by Nvidia.\n",
        "TTS stands for Text-To-Speech.\n",
        "OAuth is an open standard for access delegation.\n",
        "REST is an acronym for Representational State Transfer.\n",
        "\"\"\"\n",
        "\n",
        "with open('technical_dataset.txt', 'w') as dataset_file:\n",
        "    dataset_file.write(dataset_content)\n"
      ]
    }
  ],
  "metadata": {
    "colab": {
      "provenance": [],
      "authorship_tag": "ABX9TyO/ztyh5w/fh19QYulbQTMg",
      "include_colab_link": true
    },
    "kernelspec": {
      "display_name": "Python 3",
      "name": "python3"
    },
    "language_info": {
      "name": "python"
    }
  },
  "nbformat": 4,
  "nbformat_minor": 0
}